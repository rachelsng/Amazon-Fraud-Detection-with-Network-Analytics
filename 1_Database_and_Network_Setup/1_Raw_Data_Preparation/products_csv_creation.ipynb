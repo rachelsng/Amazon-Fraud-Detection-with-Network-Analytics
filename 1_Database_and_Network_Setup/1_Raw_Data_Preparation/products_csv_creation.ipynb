{
 "cells": [
  {
   "cell_type": "markdown",
   "metadata": {},
   "source": [
    "# Product Data Cleaning\n",
    "\n",
    "Input file: meta_Electronics.json.gz (Accessed by filling up this form: https://forms.gle/UEkkJs69e7Z5A5Ps9)\n",
    "\n",
    "Output file: products.csv"
   ]
  },
  {
   "cell_type": "code",
   "execution_count": 1,
   "metadata": {
    "id": "f5NDXrN2CtH7"
   },
   "outputs": [],
   "source": [
    "import os\n",
    "import json\n",
    "import gzip\n",
    "import pandas as pd\n",
    "from urllib.request import urlopen"
   ]
  },
  {
   "cell_type": "code",
   "execution_count": 3,
   "metadata": {
    "colab": {
     "base_uri": "https://localhost:8080/",
     "height": 71
    },
    "id": "7igYuRaV4bF7",
    "outputId": "c0595e40-c850-43b2-d32a-43cb2cbd0e1f"
   },
   "outputs": [
    {
     "name": "stdout",
     "output_type": "stream",
     "text": [
      "786445\n",
      "{'category': ['Electronics', 'Camera &amp; Photo', 'Video Surveillance', 'Surveillance Systems', 'Surveillance DVR Kits'], 'tech1': '', 'description': ['The following camera brands and models have been tested for compatibility with GV-Software.\\nGeoVision \\tACTi \\tArecont Vision \\tAXIS \\tBosch \\tCanon\\nCNB \\tD-Link \\tEtroVision \\tHikVision \\tHUNT \\tIQEye\\nJVC \\tLG \\tMOBOTIX \\tPanasonic \\tPelco \\tSamsung\\nSanyo \\tSony \\tUDP \\tVerint \\tVIVOTEK \\t \\n \\nCompatible Standard and Protocol\\nGV-System also allows for integration with all other IP video devices compatible with ONVIF(V2.0), PSIA (V1.1) standards, or RTSP protocol.\\nONVIF \\tPSIA \\tRTSP \\t  \\t  \\t \\nNote: Specifications are subject to change without notice. Every effort has been made to ensure that the information on this Web site is accurate. No liability is assumed for incidental or consequential damages arising from the use of the information or products contained herein.'], 'fit': '', 'title': 'Genuine Geovision 1 Channel 3rd Party NVR IP Software with USB Dongle Onvif PSIA', 'also_buy': [], 'tech2': '', 'brand': 'GeoVision', 'feature': ['Genuine Geovision 1 Channel NVR IP Software', 'Support 3rd Party IP Camera', 'USB Dongle'], 'rank': ['>#3,092 in Tools &amp; Home Improvement &gt; Safety &amp; Security &gt; Home Security &amp; Surveillance &gt; Complete Surveillance Systems &gt; Surveillance DVR Kits', '>#5,010 in Tools &amp; Home Improvement &gt; Safety &amp; Security &gt; Home Security &amp; Surveillance &gt; Surveillance Video Equipment'], 'also_view': [], 'main_cat': 'Camera &amp; Photo', 'similar_item': '', 'date': 'January 28, 2014', 'price': '$65.00', 'asin': '0011300000', 'imageURL': ['https://images-na.ssl-images-amazon.com/images/I/411uoWa89KL._SS40_.jpg'], 'imageURLHighRes': ['https://images-na.ssl-images-amazon.com/images/I/411uoWa89KL.jpg']}\n"
     ]
    }
   ],
   "source": [
    "### load the meta data\n",
    "data = []\n",
    "with gzip.open('meta_Electronics.json.gz') as f:\n",
    "    for l in f:\n",
    "        data.append(json.loads(l.strip()))\n",
    "    \n",
    "# total length of list, this number equals total number of products\n",
    "print(len(data))\n",
    "\n",
    "# first row of the list\n",
    "print(data[0])"
   ]
  },
  {
   "cell_type": "code",
   "execution_count": 4,
   "metadata": {
    "colab": {
     "base_uri": "https://localhost:8080/",
     "height": 34
    },
    "id": "knpHP22w4scK",
    "outputId": "b75be678-1377-4b8c-b689-56e1eab703b8"
   },
   "outputs": [
    {
     "name": "stdout",
     "output_type": "stream",
     "text": [
      "786445\n"
     ]
    }
   ],
   "source": [
    "# Convert list into pandas dataframe\n",
    "df = pd.DataFrame.from_dict(data)\n",
    "print(len(df))"
   ]
  },
  {
   "cell_type": "code",
   "execution_count": 5,
   "metadata": {
    "colab": {
     "base_uri": "https://localhost:8080/",
     "height": 51
    },
    "id": "LgWrDtZ94w89",
    "outputId": "7e22e4ab-1622-4452-ce81-54e85ef92522"
   },
   "outputs": [
    {
     "name": "stdout",
     "output_type": "stream",
     "text": [
      "0\n",
      "786445\n"
     ]
    }
   ],
   "source": [
    "# Remove rows with unformatted title (i.e. some 'title' may still contain html style content)\n",
    "df3 = df.fillna('')\n",
    "df4 = df3[df3.title.str.contains('getTime')] # unformatted rows\n",
    "df5 = df3[~df3.title.str.contains('getTime')] # filter those unformatted rows\n",
    "print(len(df4))\n",
    "print(len(df5))"
   ]
  },
  {
   "cell_type": "code",
   "execution_count": 6,
   "metadata": {
    "colab": {
     "base_uri": "https://localhost:8080/",
     "height": 306
    },
    "id": "7Vq32rQd5D9W",
    "outputId": "2965e85b-d993-4520-a992-d42e0cec3f01"
   },
   "outputs": [
    {
     "data": {
      "text/html": [
       "<div>\n",
       "<style scoped>\n",
       "    .dataframe tbody tr th:only-of-type {\n",
       "        vertical-align: middle;\n",
       "    }\n",
       "\n",
       "    .dataframe tbody tr th {\n",
       "        vertical-align: top;\n",
       "    }\n",
       "\n",
       "    .dataframe thead th {\n",
       "        text-align: right;\n",
       "    }\n",
       "</style>\n",
       "<table border=\"1\" class=\"dataframe\">\n",
       "  <thead>\n",
       "    <tr style=\"text-align: right;\">\n",
       "      <th></th>\n",
       "      <th>category</th>\n",
       "      <th>tech1</th>\n",
       "      <th>description</th>\n",
       "      <th>fit</th>\n",
       "      <th>title</th>\n",
       "      <th>also_buy</th>\n",
       "      <th>tech2</th>\n",
       "      <th>brand</th>\n",
       "      <th>feature</th>\n",
       "      <th>rank</th>\n",
       "      <th>also_view</th>\n",
       "      <th>main_cat</th>\n",
       "      <th>similar_item</th>\n",
       "      <th>date</th>\n",
       "      <th>price</th>\n",
       "      <th>asin</th>\n",
       "      <th>imageURL</th>\n",
       "      <th>imageURLHighRes</th>\n",
       "      <th>details</th>\n",
       "    </tr>\n",
       "  </thead>\n",
       "  <tbody>\n",
       "  </tbody>\n",
       "</table>\n",
       "</div>"
      ],
      "text/plain": [
       "Empty DataFrame\n",
       "Columns: [category, tech1, description, fit, title, also_buy, tech2, brand, feature, rank, also_view, main_cat, similar_item, date, price, asin, imageURL, imageURLHighRes, details]\n",
       "Index: []"
      ]
     },
     "execution_count": 6,
     "metadata": {},
     "output_type": "execute_result"
    }
   ],
   "source": [
    "# Inspect how those unformatted rows look like\n",
    "df4.head()"
   ]
  },
  {
   "cell_type": "code",
   "execution_count": 7,
   "metadata": {
    "id": "6LBLzsFU5LJ_"
   },
   "outputs": [
    {
     "data": {
      "text/html": [
       "<div>\n",
       "<style scoped>\n",
       "    .dataframe tbody tr th:only-of-type {\n",
       "        vertical-align: middle;\n",
       "    }\n",
       "\n",
       "    .dataframe tbody tr th {\n",
       "        vertical-align: top;\n",
       "    }\n",
       "\n",
       "    .dataframe thead th {\n",
       "        text-align: right;\n",
       "    }\n",
       "</style>\n",
       "<table border=\"1\" class=\"dataframe\">\n",
       "  <thead>\n",
       "    <tr style=\"text-align: right;\">\n",
       "      <th></th>\n",
       "      <th>category</th>\n",
       "      <th>tech1</th>\n",
       "      <th>description</th>\n",
       "      <th>fit</th>\n",
       "      <th>title</th>\n",
       "      <th>also_buy</th>\n",
       "      <th>tech2</th>\n",
       "      <th>brand</th>\n",
       "      <th>feature</th>\n",
       "      <th>rank</th>\n",
       "      <th>also_view</th>\n",
       "      <th>main_cat</th>\n",
       "      <th>similar_item</th>\n",
       "      <th>date</th>\n",
       "      <th>price</th>\n",
       "      <th>asin</th>\n",
       "      <th>imageURL</th>\n",
       "      <th>imageURLHighRes</th>\n",
       "      <th>details</th>\n",
       "    </tr>\n",
       "  </thead>\n",
       "  <tbody>\n",
       "    <tr>\n",
       "      <th>0</th>\n",
       "      <td>[Electronics, Camera &amp;amp; Photo, Video Survei...</td>\n",
       "      <td></td>\n",
       "      <td>[The following camera brands and models have b...</td>\n",
       "      <td></td>\n",
       "      <td>Genuine Geovision 1 Channel 3rd Party NVR IP S...</td>\n",
       "      <td>[]</td>\n",
       "      <td></td>\n",
       "      <td>GeoVision</td>\n",
       "      <td>[Genuine Geovision 1 Channel NVR IP Software, ...</td>\n",
       "      <td>[&gt;#3,092 in Tools &amp;amp; Home Improvement &amp;gt; ...</td>\n",
       "      <td>[]</td>\n",
       "      <td>Camera &amp;amp; Photo</td>\n",
       "      <td></td>\n",
       "      <td>January 28, 2014</td>\n",
       "      <td>$65.00</td>\n",
       "      <td>0011300000</td>\n",
       "      <td>[https://images-na.ssl-images-amazon.com/image...</td>\n",
       "      <td>[https://images-na.ssl-images-amazon.com/image...</td>\n",
       "      <td></td>\n",
       "    </tr>\n",
       "    <tr>\n",
       "      <th>1</th>\n",
       "      <td>[Electronics, Camera &amp;amp; Photo]</td>\n",
       "      <td></td>\n",
       "      <td>[This second edition of the Handbook of Astron...</td>\n",
       "      <td></td>\n",
       "      <td>Books \"Handbook of Astronomical Image Processi...</td>\n",
       "      <td>[0999470906]</td>\n",
       "      <td></td>\n",
       "      <td>33 Books Co.</td>\n",
       "      <td>[Detailed chapters cover these fundamental top...</td>\n",
       "      <td>[&gt;#55,933 in Camera &amp;amp; Photo (See Top 100 i...</td>\n",
       "      <td>[0943396670, 1138055360, 0999470906]</td>\n",
       "      <td>Camera &amp;amp; Photo</td>\n",
       "      <td></td>\n",
       "      <td>June 17, 2003</td>\n",
       "      <td></td>\n",
       "      <td>0043396828</td>\n",
       "      <td>[https://images-na.ssl-images-amazon.com/image...</td>\n",
       "      <td>[https://images-na.ssl-images-amazon.com/image...</td>\n",
       "      <td></td>\n",
       "    </tr>\n",
       "    <tr>\n",
       "      <th>2</th>\n",
       "      <td>[Electronics, eBook Readers &amp;amp; Accessories,...</td>\n",
       "      <td></td>\n",
       "      <td>[A zesty tale. (Publishers Weekly)&lt;br /&gt;&lt;br /&gt;...</td>\n",
       "      <td></td>\n",
       "      <td>One Hot Summer</td>\n",
       "      <td>[0425167798, 039914157X]</td>\n",
       "      <td></td>\n",
       "      <td>Visit Amazon's Carolina Garcia Aguilera Page</td>\n",
       "      <td>[]</td>\n",
       "      <td>3,105,177 in Books (</td>\n",
       "      <td>[]</td>\n",
       "      <td>Books</td>\n",
       "      <td></td>\n",
       "      <td></td>\n",
       "      <td>$11.49</td>\n",
       "      <td>0060009810</td>\n",
       "      <td>[]</td>\n",
       "      <td>[]</td>\n",
       "      <td></td>\n",
       "    </tr>\n",
       "    <tr>\n",
       "      <th>3</th>\n",
       "      <td>[Electronics, eBook Readers &amp; Accessories, eBo...</td>\n",
       "      <td></td>\n",
       "      <td>[]</td>\n",
       "      <td></td>\n",
       "      <td>Hurray for Hattie Rabbit: Story and pictures (...</td>\n",
       "      <td>[0060219521, 0060219580, 0060219394]</td>\n",
       "      <td></td>\n",
       "      <td>Visit Amazon's Dick Gackenbach Page</td>\n",
       "      <td>[]</td>\n",
       "      <td>2,024,298 in Books (</td>\n",
       "      <td>[0060219521, 0060219475, 0060219394]</td>\n",
       "      <td>Books</td>\n",
       "      <td></td>\n",
       "      <td></td>\n",
       "      <td>.a-section.a-spacing-mini{margin-bottom:6px!im...</td>\n",
       "      <td>0060219602</td>\n",
       "      <td>[]</td>\n",
       "      <td>[]</td>\n",
       "      <td></td>\n",
       "    </tr>\n",
       "    <tr>\n",
       "      <th>4</th>\n",
       "      <td>[Electronics, eBook Readers &amp; Accessories, eBo...</td>\n",
       "      <td></td>\n",
       "      <td>[&amp;#8220;sex.lies.murder.fame. is brillllli&amp;#82...</td>\n",
       "      <td></td>\n",
       "      <td>sex.lies.murder.fame.: A Novel</td>\n",
       "      <td>[]</td>\n",
       "      <td></td>\n",
       "      <td>Visit Amazon's Lolita Files Page</td>\n",
       "      <td>[]</td>\n",
       "      <td>3,778,828 in Books (</td>\n",
       "      <td>[]</td>\n",
       "      <td>Books</td>\n",
       "      <td></td>\n",
       "      <td></td>\n",
       "      <td>$13.95</td>\n",
       "      <td>0060786817</td>\n",
       "      <td>[]</td>\n",
       "      <td>[]</td>\n",
       "      <td></td>\n",
       "    </tr>\n",
       "  </tbody>\n",
       "</table>\n",
       "</div>"
      ],
      "text/plain": [
       "                                            category tech1  \\\n",
       "0  [Electronics, Camera &amp; Photo, Video Survei...         \n",
       "1                  [Electronics, Camera &amp; Photo]         \n",
       "2  [Electronics, eBook Readers &amp; Accessories,...         \n",
       "3  [Electronics, eBook Readers & Accessories, eBo...         \n",
       "4  [Electronics, eBook Readers & Accessories, eBo...         \n",
       "\n",
       "                                         description fit  \\\n",
       "0  [The following camera brands and models have b...       \n",
       "1  [This second edition of the Handbook of Astron...       \n",
       "2  [A zesty tale. (Publishers Weekly)<br /><br />...       \n",
       "3                                                 []       \n",
       "4  [&#8220;sex.lies.murder.fame. is brillllli&#82...       \n",
       "\n",
       "                                               title  \\\n",
       "0  Genuine Geovision 1 Channel 3rd Party NVR IP S...   \n",
       "1  Books \"Handbook of Astronomical Image Processi...   \n",
       "2                                     One Hot Summer   \n",
       "3  Hurray for Hattie Rabbit: Story and pictures (...   \n",
       "4                     sex.lies.murder.fame.: A Novel   \n",
       "\n",
       "                               also_buy tech2  \\\n",
       "0                                    []         \n",
       "1                          [0999470906]         \n",
       "2              [0425167798, 039914157X]         \n",
       "3  [0060219521, 0060219580, 0060219394]         \n",
       "4                                    []         \n",
       "\n",
       "                                          brand  \\\n",
       "0                                     GeoVision   \n",
       "1                                  33 Books Co.   \n",
       "2  Visit Amazon's Carolina Garcia Aguilera Page   \n",
       "3           Visit Amazon's Dick Gackenbach Page   \n",
       "4              Visit Amazon's Lolita Files Page   \n",
       "\n",
       "                                             feature  \\\n",
       "0  [Genuine Geovision 1 Channel NVR IP Software, ...   \n",
       "1  [Detailed chapters cover these fundamental top...   \n",
       "2                                                 []   \n",
       "3                                                 []   \n",
       "4                                                 []   \n",
       "\n",
       "                                                rank  \\\n",
       "0  [>#3,092 in Tools &amp; Home Improvement &gt; ...   \n",
       "1  [>#55,933 in Camera &amp; Photo (See Top 100 i...   \n",
       "2                               3,105,177 in Books (   \n",
       "3                               2,024,298 in Books (   \n",
       "4                               3,778,828 in Books (   \n",
       "\n",
       "                              also_view            main_cat similar_item  \\\n",
       "0                                    []  Camera &amp; Photo                \n",
       "1  [0943396670, 1138055360, 0999470906]  Camera &amp; Photo                \n",
       "2                                    []               Books                \n",
       "3  [0060219521, 0060219475, 0060219394]               Books                \n",
       "4                                    []               Books                \n",
       "\n",
       "               date                                              price  \\\n",
       "0  January 28, 2014                                             $65.00   \n",
       "1     June 17, 2003                                                      \n",
       "2                                                               $11.49   \n",
       "3                    .a-section.a-spacing-mini{margin-bottom:6px!im...   \n",
       "4                                                               $13.95   \n",
       "\n",
       "         asin                                           imageURL  \\\n",
       "0  0011300000  [https://images-na.ssl-images-amazon.com/image...   \n",
       "1  0043396828  [https://images-na.ssl-images-amazon.com/image...   \n",
       "2  0060009810                                                 []   \n",
       "3  0060219602                                                 []   \n",
       "4  0060786817                                                 []   \n",
       "\n",
       "                                     imageURLHighRes details  \n",
       "0  [https://images-na.ssl-images-amazon.com/image...          \n",
       "1  [https://images-na.ssl-images-amazon.com/image...          \n",
       "2                                                 []          \n",
       "3                                                 []          \n",
       "4                                                 []          "
      ]
     },
     "execution_count": 7,
     "metadata": {},
     "output_type": "execute_result"
    }
   ],
   "source": [
    "df5.head()"
   ]
  },
  {
   "cell_type": "code",
   "execution_count": 25,
   "metadata": {
    "id": "WqZcdGp-5cui"
   },
   "outputs": [],
   "source": [
    "cols = [\"asin\",\"title\", \"brand\", \"main_cat\", \"price\"]\n",
    "df_final = df5[cols]"
   ]
  },
  {
   "cell_type": "code",
   "execution_count": 26,
   "metadata": {},
   "outputs": [
    {
     "data": {
      "text/html": [
       "<div>\n",
       "<style scoped>\n",
       "    .dataframe tbody tr th:only-of-type {\n",
       "        vertical-align: middle;\n",
       "    }\n",
       "\n",
       "    .dataframe tbody tr th {\n",
       "        vertical-align: top;\n",
       "    }\n",
       "\n",
       "    .dataframe thead th {\n",
       "        text-align: right;\n",
       "    }\n",
       "</style>\n",
       "<table border=\"1\" class=\"dataframe\">\n",
       "  <thead>\n",
       "    <tr style=\"text-align: right;\">\n",
       "      <th></th>\n",
       "      <th>asin</th>\n",
       "      <th>title</th>\n",
       "      <th>brand</th>\n",
       "      <th>main_cat</th>\n",
       "      <th>price</th>\n",
       "    </tr>\n",
       "  </thead>\n",
       "  <tbody>\n",
       "    <tr>\n",
       "      <th>0</th>\n",
       "      <td>0011300000</td>\n",
       "      <td>Genuine Geovision 1 Channel 3rd Party NVR IP S...</td>\n",
       "      <td>GeoVision</td>\n",
       "      <td>Camera &amp; Photo</td>\n",
       "      <td>65.00</td>\n",
       "    </tr>\n",
       "    <tr>\n",
       "      <th>1</th>\n",
       "      <td>0043396828</td>\n",
       "      <td>Books Handbook of Astronomical Image Processin...</td>\n",
       "      <td>33 Books Co.</td>\n",
       "      <td>Camera &amp; Photo</td>\n",
       "      <td></td>\n",
       "    </tr>\n",
       "    <tr>\n",
       "      <th>2</th>\n",
       "      <td>0060009810</td>\n",
       "      <td>One Hot Summer</td>\n",
       "      <td>Visit Amazon's Carolina Garcia Aguilera Page</td>\n",
       "      <td>Books</td>\n",
       "      <td>11.49</td>\n",
       "    </tr>\n",
       "    <tr>\n",
       "      <th>3</th>\n",
       "      <td>0060219602</td>\n",
       "      <td>Hurray for Hattie Rabbit: Story and pictures (...</td>\n",
       "      <td>Visit Amazon's Dick Gackenbach Page</td>\n",
       "      <td>Books</td>\n",
       "      <td>.a-section.a-spacing-mini{margin-bottom:6px!im...</td>\n",
       "    </tr>\n",
       "    <tr>\n",
       "      <th>4</th>\n",
       "      <td>0060786817</td>\n",
       "      <td>sex.lies.murder.fame.: A Novel</td>\n",
       "      <td>Visit Amazon's Lolita Files Page</td>\n",
       "      <td>Books</td>\n",
       "      <td>13.95</td>\n",
       "    </tr>\n",
       "  </tbody>\n",
       "</table>\n",
       "</div>"
      ],
      "text/plain": [
       "         asin                                              title  \\\n",
       "0  0011300000  Genuine Geovision 1 Channel 3rd Party NVR IP S...   \n",
       "1  0043396828  Books Handbook of Astronomical Image Processin...   \n",
       "2  0060009810                                     One Hot Summer   \n",
       "3  0060219602  Hurray for Hattie Rabbit: Story and pictures (...   \n",
       "4  0060786817                     sex.lies.murder.fame.: A Novel   \n",
       "\n",
       "                                          brand        main_cat  \\\n",
       "0                                     GeoVision  Camera & Photo   \n",
       "1                                  33 Books Co.  Camera & Photo   \n",
       "2  Visit Amazon's Carolina Garcia Aguilera Page           Books   \n",
       "3           Visit Amazon's Dick Gackenbach Page           Books   \n",
       "4              Visit Amazon's Lolita Files Page           Books   \n",
       "\n",
       "                                               price  \n",
       "0                                              65.00  \n",
       "1                                                     \n",
       "2                                              11.49  \n",
       "3  .a-section.a-spacing-mini{margin-bottom:6px!im...  \n",
       "4                                              13.95  "
      ]
     },
     "execution_count": 26,
     "metadata": {},
     "output_type": "execute_result"
    }
   ],
   "source": [
    "df_final = df_final.replace(';', '', regex=True)\n",
    "df_final = df_final.replace('\"', '', regex=True)\n",
    "df_final = df_final.replace('&amp', '&', regex=True)\n",
    "df_final['price'] = df_final['price'].str.replace('$', '', regex=True)\n",
    "\n",
    "df_final.head()"
   ]
  },
  {
   "cell_type": "code",
   "execution_count": 27,
   "metadata": {},
   "outputs": [
    {
     "data": {
      "text/html": [
       "<div>\n",
       "<style scoped>\n",
       "    .dataframe tbody tr th:only-of-type {\n",
       "        vertical-align: middle;\n",
       "    }\n",
       "\n",
       "    .dataframe tbody tr th {\n",
       "        vertical-align: top;\n",
       "    }\n",
       "\n",
       "    .dataframe thead th {\n",
       "        text-align: right;\n",
       "    }\n",
       "</style>\n",
       "<table border=\"1\" class=\"dataframe\">\n",
       "  <thead>\n",
       "    <tr style=\"text-align: right;\">\n",
       "      <th></th>\n",
       "      <th>asin</th>\n",
       "      <th>title</th>\n",
       "      <th>brand</th>\n",
       "      <th>main_cat</th>\n",
       "      <th>price</th>\n",
       "    </tr>\n",
       "  </thead>\n",
       "  <tbody>\n",
       "    <tr>\n",
       "      <th>0</th>\n",
       "      <td>0011300000</td>\n",
       "      <td>Genuine Geovision 1 Channel 3rd Party NVR IP S...</td>\n",
       "      <td>GeoVision</td>\n",
       "      <td>Camera &amp; Photo</td>\n",
       "      <td>65.00</td>\n",
       "    </tr>\n",
       "    <tr>\n",
       "      <th>1</th>\n",
       "      <td>0043396828</td>\n",
       "      <td>Books Handbook of Astronomical Image Processin...</td>\n",
       "      <td>33 Books Co.</td>\n",
       "      <td>Camera &amp; Photo</td>\n",
       "      <td>-1.00</td>\n",
       "    </tr>\n",
       "    <tr>\n",
       "      <th>2</th>\n",
       "      <td>0060009810</td>\n",
       "      <td>One Hot Summer</td>\n",
       "      <td>Visit Amazon's Carolina Garcia Aguilera Page</td>\n",
       "      <td>Books</td>\n",
       "      <td>11.49</td>\n",
       "    </tr>\n",
       "    <tr>\n",
       "      <th>3</th>\n",
       "      <td>0060219602</td>\n",
       "      <td>Hurray for Hattie Rabbit: Story and pictures (...</td>\n",
       "      <td>Visit Amazon's Dick Gackenbach Page</td>\n",
       "      <td>Books</td>\n",
       "      <td>-1.00</td>\n",
       "    </tr>\n",
       "    <tr>\n",
       "      <th>4</th>\n",
       "      <td>0060786817</td>\n",
       "      <td>sex.lies.murder.fame.: A Novel</td>\n",
       "      <td>Visit Amazon's Lolita Files Page</td>\n",
       "      <td>Books</td>\n",
       "      <td>13.95</td>\n",
       "    </tr>\n",
       "  </tbody>\n",
       "</table>\n",
       "</div>"
      ],
      "text/plain": [
       "         asin                                              title  \\\n",
       "0  0011300000  Genuine Geovision 1 Channel 3rd Party NVR IP S...   \n",
       "1  0043396828  Books Handbook of Astronomical Image Processin...   \n",
       "2  0060009810                                     One Hot Summer   \n",
       "3  0060219602  Hurray for Hattie Rabbit: Story and pictures (...   \n",
       "4  0060786817                     sex.lies.murder.fame.: A Novel   \n",
       "\n",
       "                                          brand        main_cat  price  \n",
       "0                                     GeoVision  Camera & Photo  65.00  \n",
       "1                                  33 Books Co.  Camera & Photo  -1.00  \n",
       "2  Visit Amazon's Carolina Garcia Aguilera Page           Books  11.49  \n",
       "3           Visit Amazon's Dick Gackenbach Page           Books  -1.00  \n",
       "4              Visit Amazon's Lolita Files Page           Books  13.95  "
      ]
     },
     "execution_count": 27,
     "metadata": {},
     "output_type": "execute_result"
    }
   ],
   "source": [
    "# get only numbers in price\n",
    "def isnumber(x):\n",
    "    try:\n",
    "        float(x)\n",
    "        return float(x)\n",
    "    except:\n",
    "        return -1\n",
    "\n",
    "df_final['price'] = df_final['price'].apply(isnumber)\n",
    "\n",
    "df_final.head()"
   ]
  },
  {
   "cell_type": "code",
   "execution_count": 28,
   "metadata": {},
   "outputs": [
    {
     "data": {
      "text/html": [
       "<div>\n",
       "<style scoped>\n",
       "    .dataframe tbody tr th:only-of-type {\n",
       "        vertical-align: middle;\n",
       "    }\n",
       "\n",
       "    .dataframe tbody tr th {\n",
       "        vertical-align: top;\n",
       "    }\n",
       "\n",
       "    .dataframe thead th {\n",
       "        text-align: right;\n",
       "    }\n",
       "</style>\n",
       "<table border=\"1\" class=\"dataframe\">\n",
       "  <thead>\n",
       "    <tr style=\"text-align: right;\">\n",
       "      <th></th>\n",
       "      <th>asin</th>\n",
       "      <th>title</th>\n",
       "      <th>brand</th>\n",
       "      <th>main_cat</th>\n",
       "      <th>price</th>\n",
       "    </tr>\n",
       "  </thead>\n",
       "  <tbody>\n",
       "    <tr>\n",
       "      <th>27412</th>\n",
       "      <td>B000246V8O</td>\n",
       "      <td>Dual XD7500 AM/FM/CD Receiver, Motorized 4X50W...</td>\n",
       "      <td>Dual Electronics</td>\n",
       "      <td>All Electronics</td>\n",
       "      <td>-1.0</td>\n",
       "    </tr>\n",
       "    <tr>\n",
       "      <th>57780</th>\n",
       "      <td>B000246V8O</td>\n",
       "      <td>Dual XD7500 AM/FM/CD Receiver, Motorized 4X50W...</td>\n",
       "      <td>Dual Electronics</td>\n",
       "      <td>All Electronics</td>\n",
       "      <td>-1.0</td>\n",
       "    </tr>\n",
       "  </tbody>\n",
       "</table>\n",
       "</div>"
      ],
      "text/plain": [
       "             asin                                              title  \\\n",
       "27412  B000246V8O  Dual XD7500 AM/FM/CD Receiver, Motorized 4X50W...   \n",
       "57780  B000246V8O  Dual XD7500 AM/FM/CD Receiver, Motorized 4X50W...   \n",
       "\n",
       "                  brand         main_cat  price  \n",
       "27412  Dual Electronics  All Electronics   -1.0  \n",
       "57780  Dual Electronics  All Electronics   -1.0  "
      ]
     },
     "execution_count": 28,
     "metadata": {},
     "output_type": "execute_result"
    }
   ],
   "source": [
    "df_final.loc[df_final[\"asin\"] == \"B000246V8O\"]"
   ]
  },
  {
   "cell_type": "code",
   "execution_count": 29,
   "metadata": {},
   "outputs": [
    {
     "data": {
      "text/plain": [
       "756077"
      ]
     },
     "execution_count": 29,
     "metadata": {},
     "output_type": "execute_result"
    }
   ],
   "source": [
    "# remove duplicates\n",
    "df_final.drop_duplicates(inplace = True)\n",
    "len(df_final)"
   ]
  },
  {
   "cell_type": "code",
   "execution_count": 30,
   "metadata": {},
   "outputs": [],
   "source": [
    "df_final.to_csv(\"products.csv\", sep = \";\",header = False, index = False)"
   ]
  }
 ],
 "metadata": {
  "colab": {
   "collapsed_sections": [],
   "name": "parse_and_clean_meta_data.ipynb",
   "provenance": []
  },
  "kernelspec": {
   "display_name": "Python 3 (ipykernel)",
   "language": "python",
   "name": "python3"
  },
  "language_info": {
   "codemirror_mode": {
    "name": "ipython",
    "version": 3
   },
   "file_extension": ".py",
   "mimetype": "text/x-python",
   "name": "python",
   "nbconvert_exporter": "python",
   "pygments_lexer": "ipython3",
   "version": "3.8.8"
  }
 },
 "nbformat": 4,
 "nbformat_minor": 4
}
