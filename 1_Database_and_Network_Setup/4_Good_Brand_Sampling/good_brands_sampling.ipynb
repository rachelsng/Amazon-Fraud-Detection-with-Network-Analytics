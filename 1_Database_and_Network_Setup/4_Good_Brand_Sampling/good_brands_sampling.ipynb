{
 "cells": [
  {
   "cell_type": "markdown",
   "id": "bb18f1c8-4409-401e-882c-d42e61784fe2",
   "metadata": {},
   "source": [
    "# Building a Sample of Good Brands\n",
    "\n",
    "Input:\n",
    "- all_brands_itemratingscount.csv\n",
    "\n",
    "Output:\n",
    "- all_good_brands.csv"
   ]
  },
  {
   "cell_type": "code",
   "execution_count": 1,
   "id": "21c2748e-6cfa-45ae-b557-dc6468e272bf",
   "metadata": {},
   "outputs": [],
   "source": [
    "import pandas as pd\n",
    "import numpy as np\n",
    "import matplotlib.pyplot as plt\n",
    "import seaborn as sns"
   ]
  },
  {
   "cell_type": "markdown",
   "id": "81045307-53c8-48f6-9f50-ab2e4209fb43",
   "metadata": {
    "tags": []
   },
   "source": [
    "# 0. List of All 2017 Active Brands\n",
    "\n",
    "Count of all-time ratings by brand from all brands with products active (at least 1 review) in 2017. Generated from this SQL script:\n",
    "\n",
    "    SELECT brand, count(item_id) as number_of_items, sum(total_ratings) as all_ratings_count\n",
    "    FROM active_product_total_ratings \n",
    "    GROUP BY brand\n",
    "    ORDER BY brand, count(item_id) DESC"
   ]
  },
  {
   "cell_type": "code",
   "execution_count": 2,
   "id": "d4e55898-f982-446a-b029-7e4b20b7120a",
   "metadata": {},
   "outputs": [
    {
     "data": {
      "text/html": [
       "<div>\n",
       "<style scoped>\n",
       "    .dataframe tbody tr th:only-of-type {\n",
       "        vertical-align: middle;\n",
       "    }\n",
       "\n",
       "    .dataframe tbody tr th {\n",
       "        vertical-align: top;\n",
       "    }\n",
       "\n",
       "    .dataframe thead th {\n",
       "        text-align: right;\n",
       "    }\n",
       "</style>\n",
       "<table border=\"1\" class=\"dataframe\">\n",
       "  <thead>\n",
       "    <tr style=\"text-align: right;\">\n",
       "      <th></th>\n",
       "      <th>number_of_items</th>\n",
       "      <th>all_ratings_count</th>\n",
       "    </tr>\n",
       "  </thead>\n",
       "  <tbody>\n",
       "    <tr>\n",
       "      <th>count</th>\n",
       "      <td>29729.000000</td>\n",
       "      <td>29729.000000</td>\n",
       "    </tr>\n",
       "    <tr>\n",
       "      <th>mean</th>\n",
       "      <td>8.498604</td>\n",
       "      <td>104.574052</td>\n",
       "    </tr>\n",
       "    <tr>\n",
       "      <th>std</th>\n",
       "      <td>51.524121</td>\n",
       "      <td>922.882856</td>\n",
       "    </tr>\n",
       "    <tr>\n",
       "      <th>min</th>\n",
       "      <td>1.000000</td>\n",
       "      <td>1.000000</td>\n",
       "    </tr>\n",
       "    <tr>\n",
       "      <th>25%</th>\n",
       "      <td>1.000000</td>\n",
       "      <td>2.000000</td>\n",
       "    </tr>\n",
       "    <tr>\n",
       "      <th>50%</th>\n",
       "      <td>2.000000</td>\n",
       "      <td>5.000000</td>\n",
       "    </tr>\n",
       "    <tr>\n",
       "      <th>75%</th>\n",
       "      <td>4.000000</td>\n",
       "      <td>25.000000</td>\n",
       "    </tr>\n",
       "    <tr>\n",
       "      <th>max</th>\n",
       "      <td>3237.000000</td>\n",
       "      <td>57584.000000</td>\n",
       "    </tr>\n",
       "  </tbody>\n",
       "</table>\n",
       "</div>"
      ],
      "text/plain": [
       "       number_of_items  all_ratings_count\n",
       "count     29729.000000       29729.000000\n",
       "mean          8.498604         104.574052\n",
       "std          51.524121         922.882856\n",
       "min           1.000000           1.000000\n",
       "25%           1.000000           2.000000\n",
       "50%           2.000000           5.000000\n",
       "75%           4.000000          25.000000\n",
       "max        3237.000000       57584.000000"
      ]
     },
     "execution_count": 2,
     "metadata": {},
     "output_type": "execute_result"
    }
   ],
   "source": [
    "df = pd.read_csv('all_brands_itemratingscount.csv')\n",
    "df.describe()"
   ]
  },
  {
   "cell_type": "code",
   "execution_count": 3,
   "id": "165d0552-0564-4aa9-a201-fba9d8f73c13",
   "metadata": {},
   "outputs": [
    {
     "name": "stdout",
     "output_type": "stream",
     "text": [
      "<class 'pandas.core.frame.DataFrame'>\n",
      "RangeIndex: 29729 entries, 0 to 29728\n",
      "Data columns (total 3 columns):\n",
      " #   Column             Non-Null Count  Dtype \n",
      "---  ------             --------------  ----- \n",
      " 0   brand              29727 non-null  object\n",
      " 1   number_of_items    29729 non-null  int64 \n",
      " 2   all_ratings_count  29729 non-null  int64 \n",
      "dtypes: int64(2), object(1)\n",
      "memory usage: 696.9+ KB\n"
     ]
    }
   ],
   "source": [
    "df.info()"
   ]
  },
  {
   "cell_type": "code",
   "execution_count": 4,
   "id": "e08d4f05-9115-4dd6-abf1-d6a2f3daa4bb",
   "metadata": {},
   "outputs": [
    {
     "data": {
      "text/html": [
       "<div>\n",
       "<style scoped>\n",
       "    .dataframe tbody tr th:only-of-type {\n",
       "        vertical-align: middle;\n",
       "    }\n",
       "\n",
       "    .dataframe tbody tr th {\n",
       "        vertical-align: top;\n",
       "    }\n",
       "\n",
       "    .dataframe thead th {\n",
       "        text-align: right;\n",
       "    }\n",
       "</style>\n",
       "<table border=\"1\" class=\"dataframe\">\n",
       "  <thead>\n",
       "    <tr style=\"text-align: right;\">\n",
       "      <th></th>\n",
       "      <th>brand</th>\n",
       "      <th>number_of_items</th>\n",
       "      <th>all_ratings_count</th>\n",
       "    </tr>\n",
       "  </thead>\n",
       "  <tbody>\n",
       "    <tr>\n",
       "      <th>0</th>\n",
       "      <td>(Surround)</td>\n",
       "      <td>1</td>\n",
       "      <td>2</td>\n",
       "    </tr>\n",
       "    <tr>\n",
       "      <th>1</th>\n",
       "      <td>!iT Jeans</td>\n",
       "      <td>4</td>\n",
       "      <td>8</td>\n",
       "    </tr>\n",
       "    <tr>\n",
       "      <th>2</th>\n",
       "      <td>#1 Consumers Choice</td>\n",
       "      <td>1</td>\n",
       "      <td>1</td>\n",
       "    </tr>\n",
       "    <tr>\n",
       "      <th>3</th>\n",
       "      <td>#1 TV COVER</td>\n",
       "      <td>2</td>\n",
       "      <td>2</td>\n",
       "    </tr>\n",
       "    <tr>\n",
       "      <th>4</th>\n",
       "      <td>'LG</td>\n",
       "      <td>1</td>\n",
       "      <td>33</td>\n",
       "    </tr>\n",
       "  </tbody>\n",
       "</table>\n",
       "</div>"
      ],
      "text/plain": [
       "                 brand  number_of_items  all_ratings_count\n",
       "0           (Surround)                1                  2\n",
       "1            !iT Jeans                4                  8\n",
       "2  #1 Consumers Choice                1                  1\n",
       "3          #1 TV COVER                2                  2\n",
       "4                  'LG                1                 33"
      ]
     },
     "execution_count": 4,
     "metadata": {},
     "output_type": "execute_result"
    }
   ],
   "source": [
    "df.head()"
   ]
  },
  {
   "cell_type": "markdown",
   "id": "1bbc9fed-af41-4d17-b011-505e6959ab3a",
   "metadata": {},
   "source": [
    "# 1. Sample Only from Certain Brands\n",
    "\n",
    "- more than 4 items (75th percentile)\n",
    "- more than 100 ratings (88th percentile)"
   ]
  },
  {
   "cell_type": "code",
   "execution_count": 6,
   "id": "31799398-495c-4be5-9057-153fd2e029ca",
   "metadata": {},
   "outputs": [
    {
     "data": {
      "image/png": "[encoded data removed]",
      "text/plain": [
       "<Figure size 432x288 with 1 Axes>"
      ]
     },
     "metadata": {
      "needs_background": "light"
     },
     "output_type": "display_data"
    }
   ],
   "source": [
    "sns.scatterplot( x = df['number_of_items'], y = df['all_ratings_count'])\n",
    "plt.show()"
   ]
  },
  {
   "cell_type": "code",
   "execution_count": 7,
   "id": "4567a5ad-2bb1-455d-8731-e0acb8a9934e",
   "metadata": {},
   "outputs": [
    {
     "data": {
      "text/plain": [
       "4.0"
      ]
     },
     "execution_count": 7,
     "metadata": {},
     "output_type": "execute_result"
    }
   ],
   "source": [
    "df['number_of_items'].quantile(0.75)"
   ]
  },
  {
   "cell_type": "code",
   "execution_count": 8,
   "id": "04a5495c-0e64-4565-8727-b75025ebc784",
   "metadata": {},
   "outputs": [
    {
     "data": {
      "text/plain": [
       "25.0"
      ]
     },
     "execution_count": 8,
     "metadata": {},
     "output_type": "execute_result"
    }
   ],
   "source": [
    "df['all_ratings_count'].quantile(0.75)"
   ]
  },
  {
   "cell_type": "code",
   "execution_count": 9,
   "id": "149e433d-6edf-4f94-b13f-13a988aec3c1",
   "metadata": {},
   "outputs": [
    {
     "data": {
      "text/plain": [
       "88.83077130075011"
      ]
     },
     "execution_count": 9,
     "metadata": {},
     "output_type": "execute_result"
    }
   ],
   "source": [
    "from scipy import stats\n",
    "\n",
    "stats.percentileofscore(df['all_ratings_count'],100)"
   ]
  },
  {
   "cell_type": "code",
   "execution_count": 9,
   "id": "b277eec1-8d1c-4ded-8088-0ae87bb7e8e0",
   "metadata": {},
   "outputs": [
    {
     "data": {
      "text/plain": [
       "2694"
      ]
     },
     "execution_count": 9,
     "metadata": {},
     "output_type": "execute_result"
    }
   ],
   "source": [
    "df_subset = df[(df['number_of_items']>4) & (df['all_ratings_count']>100)]\n",
    "len(df_subset)"
   ]
  },
  {
   "cell_type": "code",
   "execution_count": 10,
   "id": "03999797-b9d3-47e0-8322-b117bdaaa89b",
   "metadata": {},
   "outputs": [
    {
     "data": {
      "text/html": [
       "<div>\n",
       "<style scoped>\n",
       "    .dataframe tbody tr th:only-of-type {\n",
       "        vertical-align: middle;\n",
       "    }\n",
       "\n",
       "    .dataframe tbody tr th {\n",
       "        vertical-align: top;\n",
       "    }\n",
       "\n",
       "    .dataframe thead th {\n",
       "        text-align: right;\n",
       "    }\n",
       "</style>\n",
       "<table border=\"1\" class=\"dataframe\">\n",
       "  <thead>\n",
       "    <tr style=\"text-align: right;\">\n",
       "      <th></th>\n",
       "      <th>number_of_items</th>\n",
       "      <th>all_ratings_count</th>\n",
       "    </tr>\n",
       "  </thead>\n",
       "  <tbody>\n",
       "    <tr>\n",
       "      <th>count</th>\n",
       "      <td>2694.000000</td>\n",
       "      <td>2694.00000</td>\n",
       "    </tr>\n",
       "    <tr>\n",
       "      <th>mean</th>\n",
       "      <td>63.066815</td>\n",
       "      <td>965.51559</td>\n",
       "    </tr>\n",
       "    <tr>\n",
       "      <th>std</th>\n",
       "      <td>160.618092</td>\n",
       "      <td>2920.68194</td>\n",
       "    </tr>\n",
       "    <tr>\n",
       "      <th>min</th>\n",
       "      <td>5.000000</td>\n",
       "      <td>101.00000</td>\n",
       "    </tr>\n",
       "    <tr>\n",
       "      <th>25%</th>\n",
       "      <td>12.000000</td>\n",
       "      <td>168.00000</td>\n",
       "    </tr>\n",
       "    <tr>\n",
       "      <th>50%</th>\n",
       "      <td>25.000000</td>\n",
       "      <td>292.00000</td>\n",
       "    </tr>\n",
       "    <tr>\n",
       "      <th>75%</th>\n",
       "      <td>57.000000</td>\n",
       "      <td>694.50000</td>\n",
       "    </tr>\n",
       "    <tr>\n",
       "      <th>max</th>\n",
       "      <td>3237.000000</td>\n",
       "      <td>57584.00000</td>\n",
       "    </tr>\n",
       "  </tbody>\n",
       "</table>\n",
       "</div>"
      ],
      "text/plain": [
       "       number_of_items  all_ratings_count\n",
       "count      2694.000000         2694.00000\n",
       "mean         63.066815          965.51559\n",
       "std         160.618092         2920.68194\n",
       "min           5.000000          101.00000\n",
       "25%          12.000000          168.00000\n",
       "50%          25.000000          292.00000\n",
       "75%          57.000000          694.50000\n",
       "max        3237.000000        57584.00000"
      ]
     },
     "execution_count": 10,
     "metadata": {},
     "output_type": "execute_result"
    }
   ],
   "source": [
    "df_subset.describe()"
   ]
  },
  {
   "cell_type": "markdown",
   "id": "c29c55c3-7f99-48bb-acf9-98bdc8d64458",
   "metadata": {},
   "source": [
    "## 2.1 First Batch\n",
    "\n",
    "- From online reviews here: https://www.androidcentral.com/amazon-banned-accessories-brands-and-alternatives"
   ]
  },
  {
   "cell_type": "code",
   "execution_count": 11,
   "id": "09d7f9f2-ef57-49ab-bb9f-428647b53a51",
   "metadata": {},
   "outputs": [
    {
     "data": {
      "text/html": [
       "<div>\n",
       "<style scoped>\n",
       "    .dataframe tbody tr th:only-of-type {\n",
       "        vertical-align: middle;\n",
       "    }\n",
       "\n",
       "    .dataframe tbody tr th {\n",
       "        vertical-align: top;\n",
       "    }\n",
       "\n",
       "    .dataframe thead th {\n",
       "        text-align: right;\n",
       "    }\n",
       "</style>\n",
       "<table border=\"1\" class=\"dataframe\">\n",
       "  <thead>\n",
       "    <tr style=\"text-align: right;\">\n",
       "      <th></th>\n",
       "      <th>brand</th>\n",
       "      <th>number_of_items</th>\n",
       "      <th>all_ratings_count</th>\n",
       "    </tr>\n",
       "  </thead>\n",
       "  <tbody>\n",
       "    <tr>\n",
       "      <th>3112</th>\n",
       "      <td>Belkin</td>\n",
       "      <td>767</td>\n",
       "      <td>12753</td>\n",
       "    </tr>\n",
       "    <tr>\n",
       "      <th>5531</th>\n",
       "      <td>Comsoon</td>\n",
       "      <td>9</td>\n",
       "      <td>224</td>\n",
       "    </tr>\n",
       "    <tr>\n",
       "      <th>6274</th>\n",
       "      <td>DOSS</td>\n",
       "      <td>14</td>\n",
       "      <td>237</td>\n",
       "    </tr>\n",
       "    <tr>\n",
       "      <th>12655</th>\n",
       "      <td>JVC</td>\n",
       "      <td>483</td>\n",
       "      <td>3582</td>\n",
       "    </tr>\n",
       "    <tr>\n",
       "      <th>16941</th>\n",
       "      <td>Native Union</td>\n",
       "      <td>28</td>\n",
       "      <td>131</td>\n",
       "    </tr>\n",
       "    <tr>\n",
       "      <th>19112</th>\n",
       "      <td>Poweradd</td>\n",
       "      <td>53</td>\n",
       "      <td>1357</td>\n",
       "    </tr>\n",
       "    <tr>\n",
       "      <th>22022</th>\n",
       "      <td>Skullcandy</td>\n",
       "      <td>264</td>\n",
       "      <td>7042</td>\n",
       "    </tr>\n",
       "    <tr>\n",
       "      <th>22668</th>\n",
       "      <td>StarTech</td>\n",
       "      <td>597</td>\n",
       "      <td>9341</td>\n",
       "    </tr>\n",
       "    <tr>\n",
       "      <th>24810</th>\n",
       "      <td>UGREEN</td>\n",
       "      <td>212</td>\n",
       "      <td>10109</td>\n",
       "    </tr>\n",
       "    <tr>\n",
       "      <th>29180</th>\n",
       "      <td>mophie</td>\n",
       "      <td>9</td>\n",
       "      <td>188</td>\n",
       "    </tr>\n",
       "  </tbody>\n",
       "</table>\n",
       "</div>"
      ],
      "text/plain": [
       "              brand  number_of_items  all_ratings_count\n",
       "3112         Belkin              767              12753\n",
       "5531        Comsoon                9                224\n",
       "6274           DOSS               14                237\n",
       "12655           JVC              483               3582\n",
       "16941  Native Union               28                131\n",
       "19112      Poweradd               53               1357\n",
       "22022    Skullcandy              264               7042\n",
       "22668      StarTech              597               9341\n",
       "24810        UGREEN              212              10109\n",
       "29180        mophie                9                188"
      ]
     },
     "execution_count": 11,
     "metadata": {},
     "output_type": "execute_result"
    }
   ],
   "source": [
    "first = ['Comsoon', 'DOSS', 'JVC', 'Poweradd', 'UGREEN', 'Skullcandy', 'StarTech', 'Belkin', 'mophie', 'Native Union']\n",
    "\n",
    "df_first = df_subset[df_subset['brand'].isin(first)]\n",
    "df_first"
   ]
  },
  {
   "cell_type": "markdown",
   "id": "8b110167-8145-4178-95b7-b3288f95d3fc",
   "metadata": {},
   "source": [
    "## 2.2 Random Sampling for More"
   ]
  },
  {
   "cell_type": "code",
   "execution_count": 13,
   "id": "79d08a5d-149c-4a5a-b04d-04801f858fb2",
   "metadata": {},
   "outputs": [],
   "source": [
    "chosen = df_subset.sample(n=175, replace=False, random_state=1)\n",
    "\n",
    "# Export sampled data for manual checking\n",
    "chosen.to_csv('initial_sample.csv')"
   ]
  },
  {
   "cell_type": "code",
   "execution_count": 30,
   "id": "e4f6fc40-7b74-4eaa-b90d-10105f51b328",
   "metadata": {},
   "outputs": [],
   "source": [
    "# Excel with comments\n",
    "tagged = pd.read_excel('initial_sample_tagged.xls')"
   ]
  },
  {
   "cell_type": "code",
   "execution_count": 31,
   "id": "6c83ecbb-87e7-4384-b2df-85c075db494c",
   "metadata": {},
   "outputs": [],
   "source": [
    "to_remove = list(tagged['brand'][~tagged['removed'].isna()])"
   ]
  },
  {
   "cell_type": "code",
   "execution_count": 32,
   "id": "d0247f85-2616-4a87-bcd0-02a1c2846b04",
   "metadata": {},
   "outputs": [
    {
     "name": "stdout",
     "output_type": "stream",
     "text": [
      "101\n"
     ]
    },
    {
     "data": {
      "text/html": [
       "<div>\n",
       "<style scoped>\n",
       "    .dataframe tbody tr th:only-of-type {\n",
       "        vertical-align: middle;\n",
       "    }\n",
       "\n",
       "    .dataframe tbody tr th {\n",
       "        vertical-align: top;\n",
       "    }\n",
       "\n",
       "    .dataframe thead th {\n",
       "        text-align: right;\n",
       "    }\n",
       "</style>\n",
       "<table border=\"1\" class=\"dataframe\">\n",
       "  <thead>\n",
       "    <tr style=\"text-align: right;\">\n",
       "      <th></th>\n",
       "      <th>brand</th>\n",
       "      <th>number_of_items</th>\n",
       "      <th>all_ratings_count</th>\n",
       "    </tr>\n",
       "  </thead>\n",
       "  <tbody>\n",
       "    <tr>\n",
       "      <th>28693</th>\n",
       "      <td>iFlash</td>\n",
       "      <td>19</td>\n",
       "      <td>126</td>\n",
       "    </tr>\n",
       "    <tr>\n",
       "      <th>19582</th>\n",
       "      <td>QualGear</td>\n",
       "      <td>19</td>\n",
       "      <td>1217</td>\n",
       "    </tr>\n",
       "    <tr>\n",
       "      <th>4581</th>\n",
       "      <td>CableJive</td>\n",
       "      <td>7</td>\n",
       "      <td>231</td>\n",
       "    </tr>\n",
       "    <tr>\n",
       "      <th>16409</th>\n",
       "      <td>Mopar</td>\n",
       "      <td>22</td>\n",
       "      <td>263</td>\n",
       "    </tr>\n",
       "    <tr>\n",
       "      <th>17857</th>\n",
       "      <td>Optimal Shop</td>\n",
       "      <td>33</td>\n",
       "      <td>334</td>\n",
       "    </tr>\n",
       "    <tr>\n",
       "      <th>...</th>\n",
       "      <td>...</td>\n",
       "      <td>...</td>\n",
       "      <td>...</td>\n",
       "    </tr>\n",
       "    <tr>\n",
       "      <th>6356</th>\n",
       "      <td>DTech</td>\n",
       "      <td>34</td>\n",
       "      <td>235</td>\n",
       "    </tr>\n",
       "    <tr>\n",
       "      <th>14832</th>\n",
       "      <td>LoveRPi</td>\n",
       "      <td>23</td>\n",
       "      <td>441</td>\n",
       "    </tr>\n",
       "    <tr>\n",
       "      <th>13096</th>\n",
       "      <td>KHOMO</td>\n",
       "      <td>59</td>\n",
       "      <td>1840</td>\n",
       "    </tr>\n",
       "    <tr>\n",
       "      <th>13374</th>\n",
       "      <td>Keen Eye</td>\n",
       "      <td>55</td>\n",
       "      <td>121</td>\n",
       "    </tr>\n",
       "    <tr>\n",
       "      <th>19816</th>\n",
       "      <td>RND</td>\n",
       "      <td>8</td>\n",
       "      <td>115</td>\n",
       "    </tr>\n",
       "  </tbody>\n",
       "</table>\n",
       "<p>101 rows × 3 columns</p>\n",
       "</div>"
      ],
      "text/plain": [
       "              brand  number_of_items  all_ratings_count\n",
       "28693        iFlash               19                126\n",
       "19582      QualGear               19               1217\n",
       "4581      CableJive                7                231\n",
       "16409         Mopar               22                263\n",
       "17857  Optimal Shop               33                334\n",
       "...             ...              ...                ...\n",
       "6356          DTech               34                235\n",
       "14832       LoveRPi               23                441\n",
       "13096         KHOMO               59               1840\n",
       "13374      Keen Eye               55                121\n",
       "19816           RND                8                115\n",
       "\n",
       "[101 rows x 3 columns]"
      ]
     },
     "execution_count": 32,
     "metadata": {},
     "output_type": "execute_result"
    }
   ],
   "source": [
    "selected = chosen[~chosen['brand'].isin(to_remove)]\n",
    "print(len(selected))\n",
    "selected"
   ]
  },
  {
   "cell_type": "code",
   "execution_count": 33,
   "id": "9a760218-8fb2-4402-bc51-15f65c3e50e0",
   "metadata": {},
   "outputs": [
    {
     "data": {
      "text/plain": [
       "'iflash|qualgear|cablejive|mopar|optimal shop|coolead|vidpro|mfj|kinesis|caldigit|ezopower|nextec|lenovo|jabees|loctek|dxg|impecca|tera grand|1more|lenspen|ablegrid|tzumi|reshow|vakoo|optoma|benewy|gechic|bubm|tyt|avantree|zacro|yetor|suptek|jexon|jooan|cablegeeker|orico|enermax|vackoey|ancwear|weme|seagate|crucial|cisco|tenvis|powerextra|yamaha audio|elsse|kingston|tranesca|syncwire|gmyle|chuwi|mohoo|gw security inc|golf buddy|high sierra|cerwin-vega|ipazzport|evercool|hyperx|koolertron|ritz camera|tensun|lowpricenice|neutab|deego|litefuze|fitueyes|naxa electronics|power acoustik|vivo|macally|audioquest|elobeth|supersonic|sto-fen|mount factory|rcaw9|omnimount|eweton|phiaton|digitnow|syba|nuvur|sirui|nekteck|fospower|braven|solomark|totalmount|cryorig|engenius|steklo|juyoon|tokina|dtech|loverpi|khomo|keen eye|rnd|'"
      ]
     },
     "execution_count": 33,
     "metadata": {},
     "output_type": "execute_result"
    }
   ],
   "source": [
    "# For creation of SQL table\n",
    "string =''\n",
    "for i in list(selected['brand']):\n",
    "    string += str.lower(i) + '|'\n",
    "string"
   ]
  },
  {
   "cell_type": "markdown",
   "id": "7615edb2-8d66-4562-8dce-2274b707846d",
   "metadata": {},
   "source": [
    "## 2.3 Summary of All Good Brands"
   ]
  },
  {
   "cell_type": "code",
   "execution_count": 34,
   "id": "6b1833f3-be5e-4786-aa51-7ebcf8c7e235",
   "metadata": {},
   "outputs": [
    {
     "data": {
      "text/plain": [
       "111"
      ]
     },
     "execution_count": 34,
     "metadata": {},
     "output_type": "execute_result"
    }
   ],
   "source": [
    "# inital list\n",
    "\n",
    "combined = pd.concat((df_first, selected), axis = 0)\n",
    "len(combined)"
   ]
  },
  {
   "cell_type": "code",
   "execution_count": 35,
   "id": "eacd57f3-4708-4952-adcb-7a5bee0e8a4e",
   "metadata": {},
   "outputs": [
    {
     "data": {
      "text/html": [
       "<div>\n",
       "<style scoped>\n",
       "    .dataframe tbody tr th:only-of-type {\n",
       "        vertical-align: middle;\n",
       "    }\n",
       "\n",
       "    .dataframe tbody tr th {\n",
       "        vertical-align: top;\n",
       "    }\n",
       "\n",
       "    .dataframe thead th {\n",
       "        text-align: right;\n",
       "    }\n",
       "</style>\n",
       "<table border=\"1\" class=\"dataframe\">\n",
       "  <thead>\n",
       "    <tr style=\"text-align: right;\">\n",
       "      <th></th>\n",
       "      <th>brand</th>\n",
       "      <th>number_of_items</th>\n",
       "      <th>all_ratings_count</th>\n",
       "    </tr>\n",
       "  </thead>\n",
       "  <tbody>\n",
       "    <tr>\n",
       "      <th>3112</th>\n",
       "      <td>Belkin</td>\n",
       "      <td>767</td>\n",
       "      <td>12753</td>\n",
       "    </tr>\n",
       "    <tr>\n",
       "      <th>5531</th>\n",
       "      <td>Comsoon</td>\n",
       "      <td>9</td>\n",
       "      <td>224</td>\n",
       "    </tr>\n",
       "    <tr>\n",
       "      <th>6274</th>\n",
       "      <td>DOSS</td>\n",
       "      <td>14</td>\n",
       "      <td>237</td>\n",
       "    </tr>\n",
       "    <tr>\n",
       "      <th>12655</th>\n",
       "      <td>JVC</td>\n",
       "      <td>483</td>\n",
       "      <td>3582</td>\n",
       "    </tr>\n",
       "    <tr>\n",
       "      <th>16941</th>\n",
       "      <td>Native Union</td>\n",
       "      <td>28</td>\n",
       "      <td>131</td>\n",
       "    </tr>\n",
       "    <tr>\n",
       "      <th>...</th>\n",
       "      <td>...</td>\n",
       "      <td>...</td>\n",
       "      <td>...</td>\n",
       "    </tr>\n",
       "    <tr>\n",
       "      <th>6356</th>\n",
       "      <td>DTech</td>\n",
       "      <td>34</td>\n",
       "      <td>235</td>\n",
       "    </tr>\n",
       "    <tr>\n",
       "      <th>14832</th>\n",
       "      <td>LoveRPi</td>\n",
       "      <td>23</td>\n",
       "      <td>441</td>\n",
       "    </tr>\n",
       "    <tr>\n",
       "      <th>13096</th>\n",
       "      <td>KHOMO</td>\n",
       "      <td>59</td>\n",
       "      <td>1840</td>\n",
       "    </tr>\n",
       "    <tr>\n",
       "      <th>13374</th>\n",
       "      <td>Keen Eye</td>\n",
       "      <td>55</td>\n",
       "      <td>121</td>\n",
       "    </tr>\n",
       "    <tr>\n",
       "      <th>19816</th>\n",
       "      <td>RND</td>\n",
       "      <td>8</td>\n",
       "      <td>115</td>\n",
       "    </tr>\n",
       "  </tbody>\n",
       "</table>\n",
       "<p>111 rows × 3 columns</p>\n",
       "</div>"
      ],
      "text/plain": [
       "              brand  number_of_items  all_ratings_count\n",
       "3112         Belkin              767              12753\n",
       "5531        Comsoon                9                224\n",
       "6274           DOSS               14                237\n",
       "12655           JVC              483               3582\n",
       "16941  Native Union               28                131\n",
       "...             ...              ...                ...\n",
       "6356          DTech               34                235\n",
       "14832       LoveRPi               23                441\n",
       "13096         KHOMO               59               1840\n",
       "13374      Keen Eye               55                121\n",
       "19816           RND                8                115\n",
       "\n",
       "[111 rows x 3 columns]"
      ]
     },
     "execution_count": 35,
     "metadata": {},
     "output_type": "execute_result"
    }
   ],
   "source": [
    "combined"
   ]
  },
  {
   "cell_type": "code",
   "execution_count": 36,
   "id": "b3c550fa-b021-4ca6-b1c5-f69c1cd26540",
   "metadata": {},
   "outputs": [],
   "source": [
    "combined.to_csv('all_good_brands.csv')"
   ]
  }
 ],
 "metadata": {
  "kernelspec": {
   "display_name": "Python 3 (ipykernel)",
   "language": "python",
   "name": "python3"
  },
  "language_info": {
   "codemirror_mode": {
    "name": "ipython",
    "version": 3
   },
   "file_extension": ".py",
   "mimetype": "text/x-python",
   "name": "python",
   "nbconvert_exporter": "python",
   "pygments_lexer": "ipython3",
   "version": "3.8.8"
  }
 },
 "nbformat": 4,
 "nbformat_minor": 5
}
