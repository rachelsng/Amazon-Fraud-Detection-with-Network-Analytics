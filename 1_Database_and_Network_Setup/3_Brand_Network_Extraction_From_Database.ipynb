{
 "cells": [
  {
   "cell_type": "markdown",
   "id": "1dd7f953-1352-4d7b-93cb-273d52bcd073",
   "metadata": {},
   "source": [
    "# Brand Network Extraction from PostgresSQL DB\n",
    "\n",
    "Please ensure to set up table and views before running the below.\n",
    "\n",
    "Input: \n",
    "\n",
    "- good_brands_list from 4_Good_Brand_Sampling/all_good_brands.csv\n",
    "- bad_brands_list from prior research\n",
    "\n",
    "Output: Files are too large to enclose here, please follow the instructions below to generate\n",
    "- Edgelist CSVs by brand\n",
    "- Nodelist CSVs by brand"
   ]
  },
  {
   "cell_type": "code",
   "execution_count": 1,
   "id": "0d9c98e0-8c71-4c4f-99a0-0080b9591ba1",
   "metadata": {},
   "outputs": [],
   "source": [
    "import pandas as pd\n",
    "import numpy as np\n",
    "import psycopg2"
   ]
  },
  {
   "cell_type": "code",
   "execution_count": 2,
   "id": "59b626af-c3b9-458c-85c1-2c1eabc35bae",
   "metadata": {},
   "outputs": [],
   "source": [
    "good = pd.read_csv('4_Good_Brand_Sampling/all_good_brands.csv')\n",
    "good_brands_list = list(good['brand'])"
   ]
  },
  {
   "cell_type": "code",
   "execution_count": 3,
   "id": "3bb5a34f-dae9-4f22-b352-192b829b5acf",
   "metadata": {},
   "outputs": [
    {
     "name": "stdout",
     "output_type": "stream",
     "text": [
      "['Belkin', 'Comsoon', 'DOSS', 'JVC', 'Native Union', 'Poweradd', 'Skullcandy', 'StarTech', 'UGREEN', 'mophie', 'iFlash', 'QualGear', 'CableJive', 'Mopar', 'Optimal Shop', 'COOLEAD', 'VidPro', 'MFJ', 'KINESIS', 'CalDigit', 'EZOPower', 'nextec', 'Lenovo', 'Jabees', 'Loctek', 'DXG', 'Impecca', 'Tera Grand', '1MORE', 'Lenspen', 'ABLEGRID', 'Tzumi', 'Reshow', 'VAKOO', 'Optoma', 'BENEWY', 'Gechic', 'BUBM', 'TYT', 'Avantree', 'Zacro', 'YETOR', 'Suptek', 'JEXON', 'JOOAN', 'CableGeeker', 'ORICO', 'Enermax', 'Vackoey', 'ANCwear', 'WEme', 'Seagate', 'Crucial', 'Cisco', 'TENVIS', 'Powerextra', 'Yamaha Audio', 'Elsse', 'Kingston', 'Tranesca', 'Syncwire', 'GMYLE', 'CHUWI', 'MOHOO', 'GW Security Inc', 'Golf Buddy', 'High Sierra', 'Cerwin-Vega', 'iPazzPort', 'Evercool', 'HyperX', 'Koolertron', 'Ritz Camera', 'Tensun', 'Lowpricenice', 'NeuTab', 'DEEGO', 'LiteFuze', 'FITUEYES', 'Naxa Electronics', 'Power Acoustik', 'VIVO', 'Macally', 'AudioQuest', 'EloBeth', 'Supersonic', 'Sto-Fen', 'Mount Factory', 'RCAW9', 'OmniMount', 'EWETON', 'Phiaton', 'DIGITNOW', 'Syba', 'NuVur', 'Sirui', 'Nekteck', 'FosPower', 'Braven', 'SOLOMARK', 'TotalMount', 'Cryorig', 'EnGenius', 'Steklo', 'JUYOON', 'Tokina', 'DTech', 'LoveRPi', 'KHOMO', 'Keen Eye', 'RND']\n"
     ]
    }
   ],
   "source": [
    "print(good_brands_list)"
   ]
  },
  {
   "cell_type": "code",
   "execution_count": 3,
   "id": "cb1b6782-d8bc-486b-8b2b-cfdc3a340533",
   "metadata": {},
   "outputs": [],
   "source": [
    "# Too small: Seneo, Homasy, Sunvalley\n",
    "bad_brands_list = ['TaoTronics', 'Mpow', 'VicTsing', 'HooToo', 'AUKEY', 'Vtin', 'RAVPower', 'CHOETECH', 'TOMTOP', 'YKS',\n",
    "                  'VOGEK', 'LETSCOM', 'Amzdeal', 'OMORC']"
   ]
  },
  {
   "cell_type": "markdown",
   "id": "f2e88498-7522-43db-8287-5730758b4fbf",
   "metadata": {
    "tags": []
   },
   "source": [
    "## 1. Extract Network from 2015 to 2017"
   ]
  },
  {
   "cell_type": "code",
   "execution_count": 14,
   "id": "6779fa1b-e1df-4513-83c2-c1c1ed66ac9e",
   "metadata": {},
   "outputs": [
    {
     "name": "stdout",
     "output_type": "stream",
     "text": [
      "Selecting rows from mobile table using cursor.fetchall\n",
      "Selecting rows from mobile table using cursor.fetchall\n",
      "Selecting rows from mobile table using cursor.fetchall\n",
      "Selecting rows from mobile table using cursor.fetchall\n",
      "PostgreSQL connection is closed\n"
     ]
    }
   ],
   "source": [
    "network_columns = ['common_item',\n",
    "                   'brand', \n",
    "                   'banned',\n",
    "                   'user_i',\n",
    "                   'user_i_rating',\n",
    "                   'user_i_sentiment',\n",
    "                   'user_i_ratingdate',\n",
    "                   'user_j',\n",
    "                   'user_j_rating',\n",
    "                   'user_j_sentiment',\n",
    "                   'user_j_ratingdate',\n",
    "                   'rating_daydiff']\n",
    "\n",
    "network_query = \"SELECT a.item_id as common_item, a.brand, a.banned, \"\\\n",
    "                    \"a.user_id as user_i, a.rating as user_i_rating, a.sentiment as user_i_sentiment, a.date as user_i_ratingdate, \"\\\n",
    "                    \"b.user_id as user_j, b.rating as user_j_rating, b.sentiment as user_j_sentiment, b.date as user_j_ratingdate, \"\\\n",
    "                    \"DATE_PART('day', a.date::timestamp - b.date::timestamp) as rating_daydiff \"\\\n",
    "                \"FROM analysis_table a, analysis_table b \"\\\n",
    "                \"WHERE a.item_id = b.item_id \"\\\n",
    "                    \"AND a.brand = b.brand \"\\\n",
    "                    \"AND a.brand = {} \"\\\n",
    "                    \"AND a.user_id != b.user_id \"\\\n",
    "                    \"AND a.sentiment = b.sentiment \"\\\n",
    "                    \"AND DATE_PART('day', a.date::timestamp - b.date::timestamp) < 90 \"\\\n",
    "                    \"AND DATE_PART('day', a.date::timestamp - b.date::timestamp) > -1 \"\\\n",
    "                    \"AND DATE_PART('year', a.date::timestamp) >= 2015 \"\\\n",
    "                    \"AND DATE_PART('year', a.date::timestamp) < 2018 \"\\\n",
    "                    \"AND DATE_PART('year', b.date::timestamp) >= 2015 \"\\\n",
    "                    \"AND DATE_PART('year', b.date::timestamp) < 2018 \"\n",
    "\n",
    "try:\n",
    "    for name in bad_brands_list:\n",
    "        connection = psycopg2.connect(user=\"YOUR_DB_USERNAME\",\n",
    "                                      password=\"YOUR_DB_PASSWORD\",\n",
    "                                      host=\"127.0.0.1\",\n",
    "                                      port=\"5432\",\n",
    "                                      database=\"amazon\")\n",
    "        cursor = connection.cursor()\n",
    "        postgreSQL_select_Query = network_query.format('\\''+name+'\\'')\n",
    "\n",
    "        cursor.execute(postgreSQL_select_Query)\n",
    "        print(\"Selecting rows from mobile table using cursor.fetchall\")\n",
    "        records = cursor.fetchall()\n",
    "\n",
    "        df_export = pd.DataFrame(records)\n",
    "        df_export.columns = network_columns\n",
    "        df_export.to_csv('{}_2015to2017.csv'.format(name))\n",
    "\n",
    "except (Exception, psycopg2.Error) as error:\n",
    "    print(\"Error while fetching data from PostgreSQL\", error)\n",
    "\n",
    "finally:\n",
    "    # closing database connection.\n",
    "    if connection:\n",
    "        cursor.close()\n",
    "        connection.close()\n",
    "        print(\"PostgreSQL connection is closed\")"
   ]
  },
  {
   "cell_type": "code",
   "execution_count": 50,
   "id": "3c195491-49ba-42ee-bf9e-069f87939a72",
   "metadata": {},
   "outputs": [
    {
     "data": {
      "text/html": [
       "<div>\n",
       "<style scoped>\n",
       "    .dataframe tbody tr th:only-of-type {\n",
       "        vertical-align: middle;\n",
       "    }\n",
       "\n",
       "    .dataframe tbody tr th {\n",
       "        vertical-align: top;\n",
       "    }\n",
       "\n",
       "    .dataframe thead th {\n",
       "        text-align: right;\n",
       "    }\n",
       "</style>\n",
       "<table border=\"1\" class=\"dataframe\">\n",
       "  <thead>\n",
       "    <tr style=\"text-align: right;\">\n",
       "      <th></th>\n",
       "      <th>common_item</th>\n",
       "      <th>brand</th>\n",
       "      <th>banned</th>\n",
       "      <th>user_i</th>\n",
       "      <th>user_i_rating</th>\n",
       "      <th>user_i_sentiment</th>\n",
       "      <th>user_i_ratingdate</th>\n",
       "      <th>user_j</th>\n",
       "      <th>user_j_rating</th>\n",
       "      <th>user_j_sentiment</th>\n",
       "      <th>user_j_ratingdate</th>\n",
       "      <th>rating_daydiff</th>\n",
       "    </tr>\n",
       "  </thead>\n",
       "  <tbody>\n",
       "    <tr>\n",
       "      <th>0</th>\n",
       "      <td>B000026D8E</td>\n",
       "      <td>Seagate</td>\n",
       "      <td>0</td>\n",
       "      <td>A25YJ9QZQ3K5IB</td>\n",
       "      <td>1.0</td>\n",
       "      <td>negative</td>\n",
       "      <td>2016-02-13</td>\n",
       "      <td>A6XDZ1MJ0B1A2</td>\n",
       "      <td>1.0</td>\n",
       "      <td>negative</td>\n",
       "      <td>2016-01-19</td>\n",
       "      <td>25.0</td>\n",
       "    </tr>\n",
       "    <tr>\n",
       "      <th>1</th>\n",
       "      <td>B000026D8E</td>\n",
       "      <td>Seagate</td>\n",
       "      <td>0</td>\n",
       "      <td>A2O66U5STZJOID</td>\n",
       "      <td>5.0</td>\n",
       "      <td>positive</td>\n",
       "      <td>2015-03-18</td>\n",
       "      <td>A30ERAD1AV6B6E</td>\n",
       "      <td>5.0</td>\n",
       "      <td>positive</td>\n",
       "      <td>2015-01-04</td>\n",
       "      <td>73.0</td>\n",
       "    </tr>\n",
       "    <tr>\n",
       "      <th>2</th>\n",
       "      <td>B000026D8E</td>\n",
       "      <td>Seagate</td>\n",
       "      <td>0</td>\n",
       "      <td>A2YXTH0O36P9WY</td>\n",
       "      <td>5.0</td>\n",
       "      <td>positive</td>\n",
       "      <td>2015-12-28</td>\n",
       "      <td>A8AXLBARJ5XK7</td>\n",
       "      <td>5.0</td>\n",
       "      <td>positive</td>\n",
       "      <td>2015-11-06</td>\n",
       "      <td>52.0</td>\n",
       "    </tr>\n",
       "    <tr>\n",
       "      <th>3</th>\n",
       "      <td>B000026D8E</td>\n",
       "      <td>Seagate</td>\n",
       "      <td>0</td>\n",
       "      <td>A8AXLBARJ5XK7</td>\n",
       "      <td>5.0</td>\n",
       "      <td>positive</td>\n",
       "      <td>2015-11-06</td>\n",
       "      <td>A11L6YFBNLYFG0</td>\n",
       "      <td>5.0</td>\n",
       "      <td>positive</td>\n",
       "      <td>2015-08-23</td>\n",
       "      <td>75.0</td>\n",
       "    </tr>\n",
       "    <tr>\n",
       "      <th>4</th>\n",
       "      <td>B000026D8E</td>\n",
       "      <td>Seagate</td>\n",
       "      <td>0</td>\n",
       "      <td>A8AXLBARJ5XK7</td>\n",
       "      <td>5.0</td>\n",
       "      <td>positive</td>\n",
       "      <td>2015-11-06</td>\n",
       "      <td>AV4ZMWMUALCB6</td>\n",
       "      <td>5.0</td>\n",
       "      <td>positive</td>\n",
       "      <td>2015-09-16</td>\n",
       "      <td>51.0</td>\n",
       "    </tr>\n",
       "  </tbody>\n",
       "</table>\n",
       "</div>"
      ],
      "text/plain": [
       "  common_item    brand  banned          user_i user_i_rating user_i_sentiment  \\\n",
       "0  B000026D8E  Seagate       0  A25YJ9QZQ3K5IB           1.0         negative   \n",
       "1  B000026D8E  Seagate       0  A2O66U5STZJOID           5.0         positive   \n",
       "2  B000026D8E  Seagate       0  A2YXTH0O36P9WY           5.0         positive   \n",
       "3  B000026D8E  Seagate       0   A8AXLBARJ5XK7           5.0         positive   \n",
       "4  B000026D8E  Seagate       0   A8AXLBARJ5XK7           5.0         positive   \n",
       "\n",
       "  user_i_ratingdate          user_j user_j_rating user_j_sentiment  \\\n",
       "0        2016-02-13   A6XDZ1MJ0B1A2           1.0         negative   \n",
       "1        2015-03-18  A30ERAD1AV6B6E           5.0         positive   \n",
       "2        2015-12-28   A8AXLBARJ5XK7           5.0         positive   \n",
       "3        2015-11-06  A11L6YFBNLYFG0           5.0         positive   \n",
       "4        2015-11-06   AV4ZMWMUALCB6           5.0         positive   \n",
       "\n",
       "  user_j_ratingdate  rating_daydiff  \n",
       "0        2016-01-19            25.0  \n",
       "1        2015-01-04            73.0  \n",
       "2        2015-11-06            52.0  \n",
       "3        2015-08-23            75.0  \n",
       "4        2015-09-16            51.0  "
      ]
     },
     "execution_count": 50,
     "metadata": {},
     "output_type": "execute_result"
    }
   ],
   "source": [
    "df_export.head()"
   ]
  },
  {
   "cell_type": "markdown",
   "id": "c6efbf4e-cc6c-4e7a-9d59-a05acc29c162",
   "metadata": {},
   "source": [
    "## 2. Extract Node List (2015 to 2017)"
   ]
  },
  {
   "cell_type": "code",
   "execution_count": 18,
   "id": "a70036fb-4bd8-49cb-8f2f-f8b24326ad64",
   "metadata": {},
   "outputs": [],
   "source": [
    "network_columns = ['user_id',\n",
    "                   'date', \n",
    "                   'item_id',\n",
    "                   'rating',\n",
    "                   'brand',\n",
    "                   'sentiment',\n",
    "                   'banned']\n",
    "\n",
    "network_query = \"SELECT user_id, date, item_id, rating, brand, sentiment, banned \"\\\n",
    "                \"FROM analysis_table \"\\\n",
    "                \"WHERE brand = {} \"\\\n",
    "                    \"AND DATE_PART('year', date::timestamp) >= 2015 \"\\\n",
    "                    \"AND DATE_PART('year', date::timestamp) < 2018 \""
   ]
  },
  {
   "cell_type": "code",
   "execution_count": 21,
   "id": "89f56e5e-d966-44b4-b2c3-fbf2e2a78e3e",
   "metadata": {},
   "outputs": [
    {
     "name": "stdout",
     "output_type": "stream",
     "text": [
      "Selecting rows from mobile table using cursor.fetchall\n",
      "Selecting rows from mobile table using cursor.fetchall\n",
      "Selecting rows from mobile table using cursor.fetchall\n",
      "Selecting rows from mobile table using cursor.fetchall\n",
      "Selecting rows from mobile table using cursor.fetchall\n",
      "Selecting rows from mobile table using cursor.fetchall\n",
      "Selecting rows from mobile table using cursor.fetchall\n",
      "Selecting rows from mobile table using cursor.fetchall\n",
      "Selecting rows from mobile table using cursor.fetchall\n",
      "Selecting rows from mobile table using cursor.fetchall\n",
      "Selecting rows from mobile table using cursor.fetchall\n",
      "Selecting rows from mobile table using cursor.fetchall\n",
      "Selecting rows from mobile table using cursor.fetchall\n",
      "Selecting rows from mobile table using cursor.fetchall\n",
      "PostgreSQL connection is closed\n"
     ]
    }
   ],
   "source": [
    "try:\n",
    "    for name in bad_brands_list:\n",
    "        connection = psycopg2.connect(user=\"YOUR_DB_USERNAME\",\n",
    "                                      password=\"YOUR_DB_PASSWORD\",\n",
    "                                      host=\"127.0.0.1\",\n",
    "                                      port=\"5432\",\n",
    "                                      database=\"amazon\")\n",
    "        cursor = connection.cursor()\n",
    "        postgreSQL_select_Query = network_query.format('\\''+name+'\\'')\n",
    "\n",
    "        cursor.execute(postgreSQL_select_Query)\n",
    "        print(\"Selecting rows from mobile table using cursor.fetchall\")\n",
    "        records = cursor.fetchall()\n",
    "\n",
    "        df_export = pd.DataFrame(records)\n",
    "        df_export.columns = network_columns\n",
    "        df_export.to_csv('{}_2015to2017_nodelist.csv'.format(name))\n",
    "\n",
    "except (Exception, psycopg2.Error) as error:\n",
    "    print(\"Error while fetching data from PostgreSQL\", error)\n",
    "\n",
    "finally:\n",
    "    # closing database connection.\n",
    "    if connection:\n",
    "        cursor.close()\n",
    "        connection.close()\n",
    "        print(\"PostgreSQL connection is closed\")"
   ]
  }
 ],
 "metadata": {
  "kernelspec": {
   "display_name": "Python 3 (ipykernel)",
   "language": "python",
   "name": "python3"
  },
  "language_info": {
   "codemirror_mode": {
    "name": "ipython",
    "version": 3
   },
   "file_extension": ".py",
   "mimetype": "text/x-python",
   "name": "python",
   "nbconvert_exporter": "python",
   "pygments_lexer": "ipython3",
   "version": "3.8.8"
  }
 },
 "nbformat": 4,
 "nbformat_minor": 5
}
